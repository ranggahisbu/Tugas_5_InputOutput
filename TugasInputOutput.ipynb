{
 "cells": [
  {
   "cell_type": "markdown",
   "id": "8e0c35e7-c82b-4012-ba95-38c008b6a7b7",
   "metadata": {},
   "source": [
    "<h1> 1. Buatlah biodata sederhana dengan menggunakan fungsi input(), dan output variabel dengan fungsi format().\r\n",
    " </h1>"
   ]
  },
  {
   "cell_type": "code",
   "execution_count": 71,
   "id": "46999bc1-1c69-4d8d-a4f6-68b378ea78e7",
   "metadata": {},
   "outputs": [
    {
     "name": "stdin",
     "output_type": "stream",
     "text": [
      "Nama Depan :  Rangga\n",
      "Nama Tengah :  Hishbu\n",
      "Nama Belakang :  Shafar\n",
      "Masukkan Tanggal lahir : 25\n",
      "Masukkan Bulan lahir : Maret\n",
      "Masukkan Tahun lahir : 2005\n",
      "Tempat Tinggal : Cibadak\n",
      "Hobi : Main Badminton\n",
      "Status : Single\n"
     ]
    },
    {
     "name": "stdout",
     "output_type": "stream",
     "text": [
      "\n",
      "====BIODATA====\n",
      "\n",
      "Nama           : Rangga Hishbu Shafar\n",
      "Lahir          : 25 Maret 2005\n",
      "Tempat Tinggal : Cibadak\n",
      "Hobi           : Main Badminton\n",
      "Status         : Single\n"
     ]
    }
   ],
   "source": [
    "first_name = input('Nama Depan : ')\n",
    "middle_name = input('Nama Tengah : ')\n",
    "last_name = input('Nama Belakang : ')\n",
    "\n",
    "hari = input('Masukkan Tanggal lahir :')\n",
    "bulan = input('Masukkan Bulan lahir :')\n",
    "tahun = input('Masukkan Tahun lahir :')\n",
    "\n",
    "alamat = input('Tempat Tinggal :')\n",
    "\n",
    "hobi = input('Hobi :')\n",
    "\n",
    "status = input('Status :')\n",
    "\n",
    "print(\"\")\n",
    "print(\"====BIODATA====\")\n",
    "print(\"\")\n",
    "\n",
    "print(\"Nama           : {0} {1} {2}\". format(first_name,middle_name,last_name))\n",
    "print(\"Lahir          : {0} {1} {2}\". format(hari,bulan,tahun))\n",
    "print(\"Tempat Tinggal : {}\". format(alamat))\n",
    "print(\"Hobi           : {}\". format(hobi))\n",
    "print(\"Status         : {}\". format(status))"
   ]
  },
  {
   "cell_type": "markdown",
   "id": "7992d9c7-fe13-44bc-983b-28334b0f74f4",
   "metadata": {},
   "source": [
    "<h1>2. Jika terdapat kalimat UNIVERSITAS NUSA PUTRA SUKABUMI ,buatlah kode program untuk menampilkan output:</h1>\n",
    "<ol>\n",
    "    <li>Putra Nusa</li>\n",
    "    <li>Niversitas Nsa Ptra Skabmi</li>\n",
    "    <li>Sukabumi Putra Nusa Universitas</li>\n",
    "    <li>Unps</li>\n",
    "    <li>Tas Sapu Bumi</li>>>>\n",
    "</ol>\n",
    "    \r\n",
    " \n",
    "</h1>"
   ]
  },
  {
   "cell_type": "code",
   "execution_count": 66,
   "id": "ae943ac9-7b76-4f4e-aa45-e238914b6aaf",
   "metadata": {},
   "outputs": [
    {
     "name": "stdout",
     "output_type": "stream",
     "text": [
      "PUTRA NUSA\n",
      "NIVERSITAS NSA PTRA SKABMI\n",
      "SUKABUMI PUTRA NUSA UNIVERSITAS\n",
      "UNPS\n",
      "TAS SAPU BUMI\n"
     ]
    }
   ],
   "source": [
    "kalimat = \"UNIVERSITAS NUSA PUTRA SUKABUMI\"\n",
    "kalimats = kalimat.split()\n",
    "\n",
    "print(kalimat[-14:-9] + kalimat[-20:-15])\n",
    "print(kalimat[1:11] + kalimat[11:13] + kalimat[14] + kalimat[15] + kalimat[16:18] + kalimat[19:22] + kalimat[22:24]+ kalimat[25:28] + kalimat [29:31])\n",
    "print(kalimat[23:31] + kalimat[16:22] + kalimat[11:17] + kalimat[0:11])\n",
    "print(kalimats[0][0] + kalimats[1][0] + kalimats[2][0] + kalimats[3][0])\n",
    "print(kalimat[8:11], kalimat[14:16] + kalimat[17:19] + \" \" + kalimat[27:31])"
   ]
  },
  {
   "cell_type": "code",
   "execution_count": 65,
   "id": "2bccb871-87b1-4ef3-867e-e7c60149c472",
   "metadata": {},
   "outputs": [
    {
     "name": "stdout",
     "output_type": "stream",
     "text": [
      "putra nusa\n",
      "niversitas nsa ptra skabmi\n",
      "sukabumi putra nusa universitas\n",
      "unps\n",
      "tas sapu bumi\n"
     ]
    }
   ],
   "source": [
    "kalimat = \"UNIVERSITAS NUSA PUTRA SUKABUMI\"\n",
    "a = kalimat.lower()\n",
    "b = a.split()\n",
    "\n",
    "print(b[2][0:5], end=' ')\n",
    "print(b[1][0:4])\n",
    "\n",
    "print(b[0][1:11], end=' ')\n",
    "print(b[1][0], end='')\n",
    "print(b[1][2:4], end=' ')\n",
    "print(b[2][0], end='')\n",
    "print(b[2][2:5], end= ' ')\n",
    "print(b[3][0], end= '')\n",
    "print(b[3][2:4], end='')\n",
    "print(b[3][4], end= '')\n",
    "print(b[3][6:8])\n",
    "\n",
    "print(b[3][0:8], end=' ')\n",
    "print(b[2][0:5], end=' ')\n",
    "print(b[1][0:4], end=' ')\n",
    "print(b[0][0:11])\n",
    "\n",
    "print(b[0][0] + b[1][0] + b[2][0] + b[3][0])\n",
    "\n",
    "print(b[0][8:11], end=' ')\n",
    "print(b[1][2:4],end='')\n",
    "print(b[2][0:2],end=' ')\n",
    "print(b[3][4:8])"
   ]
  },
  {
   "cell_type": "code",
   "execution_count": null,
   "id": "8de6be8d-471d-4eb2-8618-a6a1ca23c30a",
   "metadata": {},
   "outputs": [],
   "source": []
  }
 ],
 "metadata": {
  "kernelspec": {
   "display_name": "Python 3 (ipykernel)",
   "language": "python",
   "name": "python3"
  },
  "language_info": {
   "codemirror_mode": {
    "name": "ipython",
    "version": 3
   },
   "file_extension": ".py",
   "mimetype": "text/x-python",
   "name": "python",
   "nbconvert_exporter": "python",
   "pygments_lexer": "ipython3",
   "version": "3.11.7"
  }
 },
 "nbformat": 4,
 "nbformat_minor": 5
}
